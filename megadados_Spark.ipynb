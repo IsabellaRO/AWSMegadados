{
 "cells": [
  {
   "cell_type": "code",
   "execution_count": null,
   "metadata": {},
   "outputs": [],
   "source": [
    "import boto3\n",
    "import re\n",
    "import requests\n",
    "from requests_aws4auth import AWS4Auth\n",
    "import json\n",
    "\n",
    "\n",
    "host = \"https://search-paulo2-aa5yt5vvff6xcdluoi6y2trd7i.us-east-1.es.amazonaws.com\" # ES endpoint\n",
    "index = 'hello'\n",
    "l_type = 'world'\n",
    "url = host + '/' + index + '/' + l_type\n",
    "headers = { \"Content-Type\": \"application/json\" }\n",
    "\n",
    "region = 'us-east-1' # e.g. us-west-1\n",
    "service = 'es'\n",
    "\n",
    "\n",
    "\n",
    "credentials = boto3.Session().get_credentials()\n",
    "awsauth = AWS4Auth(credentials.access_key, credentials.secret_key, region, service, session_token=credentials.token)"
   ]
  },
  {
   "cell_type": "code",
   "execution_count": null,
   "metadata": {},
   "outputs": [],
   "source": [
    "df = spark.read.csv(\"amazon_reviews_us_Camera_v1_00.tsv.gz\", sep='\\t', header=True)\n",
    "df.show()"
   ]
  },
  {
   "cell_type": "code",
   "execution_count": null,
   "metadata": {},
   "outputs": [],
   "source": [
    "def send_to_es(file):\n",
    "    data = json.loads(file)\n",
    "    r = requests.post(url,auth=awsauth, json=data, headers=headers)\n",
    "    return r\n"
   ]
  },
  {
   "cell_type": "code",
   "execution_count": null,
   "metadata": {},
   "outputs": [],
   "source": [
    "df_j = df.toJSON().sample(withReplacement=False, fraction=0.0001, seed=42)"
   ]
  }
 ],
 "metadata": {
  "kernelspec": {
   "display_name": "Python 3",
   "language": "python",
   "name": "python3"
  }
 },
 "nbformat": 4,
 "nbformat_minor": 2
}
